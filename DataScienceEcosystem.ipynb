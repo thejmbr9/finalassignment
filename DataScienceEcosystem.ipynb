{
 "cells": [
  {
   "cell_type": "markdown",
   "id": "89144def-b66a-4852-bbd0-4662d2c47244",
   "metadata": {},
   "source": [
    "# Data Science Tools and Ecosystem"
   ]
  },
  {
   "cell_type": "markdown",
   "id": "5774bd44-2494-411b-93ab-e8799c82b432",
   "metadata": {},
   "source": [
    "In this notebook, Data Science Tools and Ecosystem are summarized."
   ]
  },
  {
   "cell_type": "markdown",
   "id": "8dc2466c-5ce8-49ef-96f7-d10b9b60d7f0",
   "metadata": {},
   "source": [
    "**Objectives:**\n",
    "- List some popular languages that DATA SCIENTISTS use.\n",
    "- Identify some of the commonly used libraries in Data science.\n",
    "- Create and format markdown cells in a Jupyter Notebook.\n",
    "- Evaluate simple arithmetic expressions in Python."
   ]
  },
  {
   "cell_type": "markdown",
   "id": "a6764aa6-35d0-473f-a273-7b65fe581994",
   "metadata": {},
   "source": [
    "Some of the popular languages that Data Scientists use are:\n",
    "1. Python.\n",
    "2. R.\n",
    "3. SQL.\n",
    "4. Julia"
   ]
  },
  {
   "cell_type": "markdown",
   "id": "c8ca2149-9955-4706-be2d-41491ded74d7",
   "metadata": {},
   "source": [
    "Some of the commonly used libraries used by Data Scientists include:\n",
    "1. Matplotlib\n",
    "2. Scikit-learn\n",
    "3. Numpy.\n",
    "4. Pandas.\n",
    "5. Tensorflow."
   ]
  },
  {
   "cell_type": "markdown",
   "id": "d712cdaf-5ab6-4907-a27d-67cfc5668807",
   "metadata": {},
   "source": [
    "|Data Science Tools|\n",
    "|------------------|\n",
    "|Jupyter Notebook|\n",
    "|RStudio|\n",
    "|Visual Studio Code|\n",
    "|Google Colab|"
   ]
  },
  {
   "cell_type": "markdown",
   "id": "fc2065e9-3621-407f-a911-5a7b01fd9cb2",
   "metadata": {},
   "source": [
    "### Below are a few examples of evaluating arithmetic expressions in Python"
   ]
  },
  {
   "cell_type": "code",
   "execution_count": 2,
   "id": "d7dae61e-a34a-4fd4-b7cf-fa652b6d995b",
   "metadata": {},
   "outputs": [
    {
     "data": {
      "text/plain": [
       "17"
      ]
     },
     "execution_count": 2,
     "metadata": {},
     "output_type": "execute_result"
    }
   ],
   "source": [
    "#This a simple arithmetic expression to mutiply then add integers\n",
    "(3*4)+5"
   ]
  },
  {
   "cell_type": "code",
   "execution_count": 3,
   "id": "0bbd30ba-02f3-4542-aaa2-0fab6be9f584",
   "metadata": {},
   "outputs": [
    {
     "data": {
      "text/plain": [
       "3.3333333333333335"
      ]
     },
     "execution_count": 3,
     "metadata": {},
     "output_type": "execute_result"
    }
   ],
   "source": [
    "#This will convert 200 minutes to hours by diving by 60\n",
    "200/60"
   ]
  },
  {
   "cell_type": "markdown",
   "id": "4fad0f6b-89ae-4817-ae8d-b91af117b78e",
   "metadata": {},
   "source": [
    "## Author\n",
    "Jose Manuel Bonilla Rodríguez"
   ]
  },
  {
   "cell_type": "code",
   "execution_count": null,
   "id": "ac2eb2c7-f385-4cac-ace3-d8d47cd5f2fd",
   "metadata": {},
   "outputs": [],
   "source": []
  }
 ],
 "metadata": {
  "kernelspec": {
   "display_name": "Python 3 (ipykernel)",
   "language": "python",
   "name": "python3"
  },
  "language_info": {
   "codemirror_mode": {
    "name": "ipython",
    "version": 3
   },
   "file_extension": ".py",
   "mimetype": "text/x-python",
   "name": "python",
   "nbconvert_exporter": "python",
   "pygments_lexer": "ipython3",
   "version": "3.13.5"
  }
 },
 "nbformat": 4,
 "nbformat_minor": 5
}
